{
 "cells": [
  {
   "cell_type": "code",
   "execution_count": 1,
   "metadata": {},
   "outputs": [],
   "source": [
    "#Import all the dependies needed for the task \n",
    "import pandas as pd \n",
    "import matplotlib.pyplot as plt\n",
    "import scipy.stats as st \n",
    "import numpy as np\n",
    "\n",
    "#Show the files we will be using \n",
    "mouse_data_path = \"Data/Mouse_metadata.csv\"\n",
    "study_results_path = \"Data/Study_results.csv\"\n",
    "\n",
    "#Read the files allowing us to access them more freely\n",
    "mouse_metadata = pd.read_csv(mouse_data_path)\n",
    "study_results = pd.read_csv(study_results_path)"
   ]
  },
  {
   "cell_type": "code",
   "execution_count": 2,
   "metadata": {},
   "outputs": [
    {
     "data": {
      "text/html": [
       "<div>\n",
       "<style scoped>\n",
       "    .dataframe tbody tr th:only-of-type {\n",
       "        vertical-align: middle;\n",
       "    }\n",
       "\n",
       "    .dataframe tbody tr th {\n",
       "        vertical-align: top;\n",
       "    }\n",
       "\n",
       "    .dataframe thead th {\n",
       "        text-align: right;\n",
       "    }\n",
       "</style>\n",
       "<table border=\"1\" class=\"dataframe\">\n",
       "  <thead>\n",
       "    <tr style=\"text-align: right;\">\n",
       "      <th></th>\n",
       "      <th>Mouse ID</th>\n",
       "      <th>Drug Regimen</th>\n",
       "      <th>Sex</th>\n",
       "      <th>Age_months</th>\n",
       "      <th>Weight (g)</th>\n",
       "      <th>Timepoint</th>\n",
       "      <th>Tumor Volume (mm3)</th>\n",
       "      <th>Metastatic Sites</th>\n",
       "    </tr>\n",
       "  </thead>\n",
       "  <tbody>\n",
       "    <tr>\n",
       "      <th>0</th>\n",
       "      <td>k403</td>\n",
       "      <td>Ramicane</td>\n",
       "      <td>Male</td>\n",
       "      <td>21</td>\n",
       "      <td>16</td>\n",
       "      <td>0</td>\n",
       "      <td>45.000000</td>\n",
       "      <td>0</td>\n",
       "    </tr>\n",
       "    <tr>\n",
       "      <th>1</th>\n",
       "      <td>k403</td>\n",
       "      <td>Ramicane</td>\n",
       "      <td>Male</td>\n",
       "      <td>21</td>\n",
       "      <td>16</td>\n",
       "      <td>5</td>\n",
       "      <td>38.825898</td>\n",
       "      <td>0</td>\n",
       "    </tr>\n",
       "    <tr>\n",
       "      <th>2</th>\n",
       "      <td>k403</td>\n",
       "      <td>Ramicane</td>\n",
       "      <td>Male</td>\n",
       "      <td>21</td>\n",
       "      <td>16</td>\n",
       "      <td>10</td>\n",
       "      <td>35.014271</td>\n",
       "      <td>1</td>\n",
       "    </tr>\n",
       "    <tr>\n",
       "      <th>3</th>\n",
       "      <td>k403</td>\n",
       "      <td>Ramicane</td>\n",
       "      <td>Male</td>\n",
       "      <td>21</td>\n",
       "      <td>16</td>\n",
       "      <td>15</td>\n",
       "      <td>34.223992</td>\n",
       "      <td>1</td>\n",
       "    </tr>\n",
       "    <tr>\n",
       "      <th>4</th>\n",
       "      <td>k403</td>\n",
       "      <td>Ramicane</td>\n",
       "      <td>Male</td>\n",
       "      <td>21</td>\n",
       "      <td>16</td>\n",
       "      <td>20</td>\n",
       "      <td>32.997729</td>\n",
       "      <td>1</td>\n",
       "    </tr>\n",
       "  </tbody>\n",
       "</table>\n",
       "</div>"
      ],
      "text/plain": [
       "  Mouse ID Drug Regimen   Sex  Age_months  Weight (g)  Timepoint  \\\n",
       "0     k403     Ramicane  Male          21          16          0   \n",
       "1     k403     Ramicane  Male          21          16          5   \n",
       "2     k403     Ramicane  Male          21          16         10   \n",
       "3     k403     Ramicane  Male          21          16         15   \n",
       "4     k403     Ramicane  Male          21          16         20   \n",
       "\n",
       "   Tumor Volume (mm3)  Metastatic Sites  \n",
       "0           45.000000                 0  \n",
       "1           38.825898                 0  \n",
       "2           35.014271                 1  \n",
       "3           34.223992                 1  \n",
       "4           32.997729                 1  "
      ]
     },
     "execution_count": 2,
     "metadata": {},
     "output_type": "execute_result"
    }
   ],
   "source": [
    "#Combine the data into one dataset\n",
    "merged_data = pd.merge(mouse_metadata, study_results, on= \"Mouse ID\", how= \"outer\")\n",
    "\n",
    "#Display the combine data\n",
    "merged_data.head()"
   ]
  },
  {
   "cell_type": "code",
   "execution_count": 4,
   "metadata": {},
   "outputs": [
    {
     "name": "stdout",
     "output_type": "stream",
     "text": [
      "There are 249 different mice in this dataset\n"
     ]
    }
   ],
   "source": [
    "#Check the number of mice in the dataset \n",
    "mice = len(merged_data[\"Mouse ID\"].unique())\n",
    "print(f\"There are {mice} different mice in this dataset\")"
   ]
  },
  {
   "cell_type": "code",
   "execution_count": 5,
   "metadata": {},
   "outputs": [],
   "source": [
    "#Get rid of duplicates\n",
    "cleaned_merged_data = merged_data.drop_duplicates()"
   ]
  },
  {
   "cell_type": "code",
   "execution_count": 6,
   "metadata": {},
   "outputs": [
    {
     "data": {
      "text/html": [
       "<div>\n",
       "<style scoped>\n",
       "    .dataframe tbody tr th:only-of-type {\n",
       "        vertical-align: middle;\n",
       "    }\n",
       "\n",
       "    .dataframe tbody tr th {\n",
       "        vertical-align: top;\n",
       "    }\n",
       "\n",
       "    .dataframe thead th {\n",
       "        text-align: right;\n",
       "    }\n",
       "</style>\n",
       "<table border=\"1\" class=\"dataframe\">\n",
       "  <thead>\n",
       "    <tr style=\"text-align: right;\">\n",
       "      <th></th>\n",
       "      <th>Mean</th>\n",
       "      <th>Median</th>\n",
       "      <th>Variance</th>\n",
       "      <th>Standard Deviavtion</th>\n",
       "      <th>Standard Error Mean</th>\n",
       "    </tr>\n",
       "    <tr>\n",
       "      <th>Drug Regimen</th>\n",
       "      <th></th>\n",
       "      <th></th>\n",
       "      <th></th>\n",
       "      <th></th>\n",
       "      <th></th>\n",
       "    </tr>\n",
       "  </thead>\n",
       "  <tbody>\n",
       "    <tr>\n",
       "      <th>Capomulin</th>\n",
       "      <td>40.675741</td>\n",
       "      <td>41.557809</td>\n",
       "      <td>24.947764</td>\n",
       "      <td>4.994774</td>\n",
       "      <td>0.329346</td>\n",
       "    </tr>\n",
       "    <tr>\n",
       "      <th>Ceftamin</th>\n",
       "      <td>52.591172</td>\n",
       "      <td>51.776157</td>\n",
       "      <td>39.290177</td>\n",
       "      <td>6.268188</td>\n",
       "      <td>0.469821</td>\n",
       "    </tr>\n",
       "    <tr>\n",
       "      <th>Infubinol</th>\n",
       "      <td>52.884795</td>\n",
       "      <td>51.820584</td>\n",
       "      <td>43.128684</td>\n",
       "      <td>6.567243</td>\n",
       "      <td>0.492236</td>\n",
       "    </tr>\n",
       "    <tr>\n",
       "      <th>Ketapril</th>\n",
       "      <td>55.235638</td>\n",
       "      <td>53.698743</td>\n",
       "      <td>68.553577</td>\n",
       "      <td>8.279709</td>\n",
       "      <td>0.603860</td>\n",
       "    </tr>\n",
       "    <tr>\n",
       "      <th>Naftisol</th>\n",
       "      <td>54.331565</td>\n",
       "      <td>52.509285</td>\n",
       "      <td>66.173479</td>\n",
       "      <td>8.134708</td>\n",
       "      <td>0.596466</td>\n",
       "    </tr>\n",
       "    <tr>\n",
       "      <th>Placebo</th>\n",
       "      <td>54.033581</td>\n",
       "      <td>52.288934</td>\n",
       "      <td>61.168083</td>\n",
       "      <td>7.821003</td>\n",
       "      <td>0.581331</td>\n",
       "    </tr>\n",
       "    <tr>\n",
       "      <th>Propriva</th>\n",
       "      <td>52.368318</td>\n",
       "      <td>50.909965</td>\n",
       "      <td>42.278090</td>\n",
       "      <td>6.502160</td>\n",
       "      <td>0.514041</td>\n",
       "    </tr>\n",
       "    <tr>\n",
       "      <th>Ramicane</th>\n",
       "      <td>40.216745</td>\n",
       "      <td>40.673236</td>\n",
       "      <td>23.486704</td>\n",
       "      <td>4.846308</td>\n",
       "      <td>0.320955</td>\n",
       "    </tr>\n",
       "    <tr>\n",
       "      <th>Stelasyn</th>\n",
       "      <td>54.233149</td>\n",
       "      <td>52.431737</td>\n",
       "      <td>59.450562</td>\n",
       "      <td>7.710419</td>\n",
       "      <td>0.573111</td>\n",
       "    </tr>\n",
       "    <tr>\n",
       "      <th>Zoniferol</th>\n",
       "      <td>53.236507</td>\n",
       "      <td>51.818479</td>\n",
       "      <td>48.533355</td>\n",
       "      <td>6.966589</td>\n",
       "      <td>0.516398</td>\n",
       "    </tr>\n",
       "  </tbody>\n",
       "</table>\n",
       "</div>"
      ],
      "text/plain": [
       "                   Mean     Median   Variance  Standard Deviavtion  \\\n",
       "Drug Regimen                                                         \n",
       "Capomulin     40.675741  41.557809  24.947764             4.994774   \n",
       "Ceftamin      52.591172  51.776157  39.290177             6.268188   \n",
       "Infubinol     52.884795  51.820584  43.128684             6.567243   \n",
       "Ketapril      55.235638  53.698743  68.553577             8.279709   \n",
       "Naftisol      54.331565  52.509285  66.173479             8.134708   \n",
       "Placebo       54.033581  52.288934  61.168083             7.821003   \n",
       "Propriva      52.368318  50.909965  42.278090             6.502160   \n",
       "Ramicane      40.216745  40.673236  23.486704             4.846308   \n",
       "Stelasyn      54.233149  52.431737  59.450562             7.710419   \n",
       "Zoniferol     53.236507  51.818479  48.533355             6.966589   \n",
       "\n",
       "              Standard Error Mean  \n",
       "Drug Regimen                       \n",
       "Capomulin                0.329346  \n",
       "Ceftamin                 0.469821  \n",
       "Infubinol                0.492236  \n",
       "Ketapril                 0.603860  \n",
       "Naftisol                 0.596466  \n",
       "Placebo                  0.581331  \n",
       "Propriva                 0.514041  \n",
       "Ramicane                 0.320955  \n",
       "Stelasyn                 0.573111  \n",
       "Zoniferol                0.516398  "
      ]
     },
     "execution_count": 6,
     "metadata": {},
     "output_type": "execute_result"
    }
   ],
   "source": [
    "#Genreate the statistics fort the summary table\n",
    "tumor_mean = cleaned_merged_data.groupby(\"Drug Regimen\").mean()[\"Tumor Volume (mm3)\"]\n",
    "tumor_median = cleaned_merged_data.groupby(\"Drug Regimen\").median()[\"Tumor Volume (mm3)\"]\n",
    "tumor_variance = cleaned_merged_data.groupby(\"Drug Regimen\").var()[\"Tumor Volume (mm3)\"]\n",
    "tumor_std = cleaned_merged_data.groupby(\"Drug Regimen\").std()[\"Tumor Volume (mm3)\"]\n",
    "tumor_sem = cleaned_merged_data.groupby(\"Drug Regimen\").sem()[\"Tumor Volume (mm3)\"]\n",
    "\n",
    "#Create the summary table\n",
    "tumor_summary = pd.DataFrame({\"Mean\": tumor_mean, \n",
    "                              \"Median\": tumor_median,\n",
    "                              \"Variance\": tumor_variance,\n",
    "                              \"Standard Deviavtion\": tumor_std,\n",
    "                              \"Standard Error Mean\": tumor_sem})\n",
    "\n",
    "#Print the summary table \n",
    "tumor_summary"
   ]
  },
  {
   "cell_type": "code",
   "execution_count": 82,
   "metadata": {},
   "outputs": [
    {
     "data": {
      "image/png": "[encoded data removed]",
      "text/plain": [
       "<Figure size 720x360 with 1 Axes>"
      ]
     },
     "metadata": {
      "needs_background": "light"
     },
     "output_type": "display_data"
    }
   ],
   "source": [
    "#Create a bar graph using pandas for total number of mice for each treatment \n",
    "drug_group = merged_data.groupby(\"Drug Regimen\")\n",
    "\n",
    "#Find the number of mice \n",
    "mice_group = drug_group[\"Mouse ID\"].count()\n",
    "\n",
    "#Set up the chart\n",
    "mice_chart = mice_group.plot(kind= \"bar\", figsize= (10,5), title = \"Number of Mice per Drug Regimen\",\n",
    "                             color = \"lightseagreen\", rot = 0)\n",
    "\n",
    "#Print the chart\n",
    "mice_chart\n",
    "\n",
    "#Clean the chart up and add legend\n",
    "plt.legend([\"Count\"])\n",
    "plt.tight_layout()"
   ]
  },
  {
   "cell_type": "code",
   "execution_count": 8,
   "metadata": {},
   "outputs": [
    {
     "data": {
      "image/png": "[encoded data removed]",
      "text/plain": [
       "<Figure size 720x360 with 1 Axes>"
      ]
     },
     "metadata": {
      "needs_background": "light"
     },
     "output_type": "display_data"
    }
   ],
   "source": [
    "#Create a bar graph using matplotlib for total number of mice for each treatment \n",
    "#Set up the x_axis\n",
    "regimens = tumor_summary.index\n",
    "x_axis = np.arange(len(regimens))\n",
    "\n",
    "#Set up the bar chart\n",
    "plt.figure(figsize = (10,5))\n",
    "plt.bar(x_axis, mice_group, align = \"center\", color = \"lightcoral\")\n",
    "\n",
    "#Set tick loctaions \n",
    "tick_locs = [value for value in x_axis]\n",
    "plt.xticks(tick_locs, regimens)\n",
    "\n",
    "#Set title and legend\n",
    "plt.title(\"Mice Count per Drug Regimen\")\n",
    "plt.xlabel(\"Drug Regimen\")\n",
    "plt.legend([\"Count\"])\n",
    "plt.tight_layout()"
   ]
  },
  {
   "cell_type": "code",
   "execution_count": 9,
   "metadata": {},
   "outputs": [],
   "source": [
    "#Now we will create pie charts showing the distribution of male and female mice\n",
    "gender_group = merged_data.groupby(\"Sex\").count().reset_index()\n",
    "gender_group.count()\n",
    "\n",
    "#Set the data range to just sex and number of mice\n",
    "gender_group = gender_group[[\"Sex\", \"Mouse ID\"]]\n",
    "gender_group.head()\n",
    "\n",
    "#Changes chart colors\n",
    "colors = [\"pink\", \"blue\"]"
   ]
  },
  {
   "cell_type": "code",
   "execution_count": 10,
   "metadata": {},
   "outputs": [
    {
     "data": {
      "image/png": "[encoded data removed]",
      "text/plain": [
       "<Figure size 432x288 with 1 Axes>"
      ]
     },
     "metadata": {},
     "output_type": "display_data"
    }
   ],
   "source": [
    "#Create the pie chart using Pandas\n",
    "gender_pie = gender_group.plot(kind= \"pie\", y= \"Mouse ID\", labels= gender_group[\"Sex\"], autopct='%1.1f%%', \n",
    "                      title = \"Number of Male vs Female Mice\", colors = colors)\n",
    "\n",
    "#Clean up the chart\n",
    "plt.legend()\n",
    "plt.axis(\"equal\")\n",
    "plt.tight_layout()"
   ]
  },
  {
   "cell_type": "code",
   "execution_count": 11,
   "metadata": {},
   "outputs": [
    {
     "data": {
      "image/png": "[encoded data removed]",
      "text/plain": [
       "<Figure size 432x288 with 1 Axes>"
      ]
     },
     "metadata": {},
     "output_type": "display_data"
    }
   ],
   "source": [
    "#Create a pie chart showing male vs female mice using pyplot\n",
    "#Set the labels \n",
    "labels = [\"Female\", \"Male\"]\n",
    "\n",
    "#Set the colors\n",
    "colors = [\"lightpink\",\"lightblue\"]\n",
    "\n",
    "#Create the pie chart\n",
    "plt.pie(gender_group[\"Mouse ID\"], labels = labels, colors = colors,\n",
    "       autopct='%1.1f%%', startangle = 90)\n",
    "\n",
    "#Clean up the chart \n",
    "plt.legend()\n",
    "plt.axis(\"equal\")\n",
    "plt.tight_layout()"
   ]
  },
  {
   "cell_type": "code",
   "execution_count": 12,
   "metadata": {},
   "outputs": [
    {
     "data": {
      "text/html": [
       "<div>\n",
       "<style scoped>\n",
       "    .dataframe tbody tr th:only-of-type {\n",
       "        vertical-align: middle;\n",
       "    }\n",
       "\n",
       "    .dataframe tbody tr th {\n",
       "        vertical-align: top;\n",
       "    }\n",
       "\n",
       "    .dataframe thead th {\n",
       "        text-align: right;\n",
       "    }\n",
       "</style>\n",
       "<table border=\"1\" class=\"dataframe\">\n",
       "  <thead>\n",
       "    <tr style=\"text-align: right;\">\n",
       "      <th></th>\n",
       "      <th>Mouse ID</th>\n",
       "      <th>Drug Regimen</th>\n",
       "      <th>Timepoint</th>\n",
       "      <th>Tumor Volume (mm3)</th>\n",
       "    </tr>\n",
       "  </thead>\n",
       "  <tbody>\n",
       "    <tr>\n",
       "      <th>9</th>\n",
       "      <td>k403</td>\n",
       "      <td>Ramicane</td>\n",
       "      <td>45</td>\n",
       "      <td>22.050126</td>\n",
       "    </tr>\n",
       "    <tr>\n",
       "      <th>19</th>\n",
       "      <td>s185</td>\n",
       "      <td>Capomulin</td>\n",
       "      <td>45</td>\n",
       "      <td>23.343598</td>\n",
       "    </tr>\n",
       "    <tr>\n",
       "      <th>29</th>\n",
       "      <td>x401</td>\n",
       "      <td>Capomulin</td>\n",
       "      <td>45</td>\n",
       "      <td>28.484033</td>\n",
       "    </tr>\n",
       "    <tr>\n",
       "      <th>39</th>\n",
       "      <td>m601</td>\n",
       "      <td>Capomulin</td>\n",
       "      <td>45</td>\n",
       "      <td>28.430964</td>\n",
       "    </tr>\n",
       "    <tr>\n",
       "      <th>49</th>\n",
       "      <td>g791</td>\n",
       "      <td>Ramicane</td>\n",
       "      <td>45</td>\n",
       "      <td>29.128472</td>\n",
       "    </tr>\n",
       "  </tbody>\n",
       "</table>\n",
       "</div>"
      ],
      "text/plain": [
       "   Mouse ID Drug Regimen  Timepoint  Tumor Volume (mm3)\n",
       "9      k403     Ramicane         45           22.050126\n",
       "19     s185    Capomulin         45           23.343598\n",
       "29     x401    Capomulin         45           28.484033\n",
       "39     m601    Capomulin         45           28.430964\n",
       "49     g791     Ramicane         45           29.128472"
      ]
     },
     "execution_count": 12,
     "metadata": {},
     "output_type": "execute_result"
    }
   ],
   "source": [
    "#Find the best treatment between Capomulin, Ramicane, Infubinol, and Ceftamin in each mouse\n",
    "merged_data.head()\n",
    "\n",
    "#Get the columns we are looking at\n",
    "treatment_columns = merged_data[[\"Mouse ID\", \"Drug Regimen\", \"Timepoint\", \"Tumor Volume (mm3)\"]]\n",
    "\n",
    "#Sort by the greatest timepoint so that we can see the greatest tumor volume in each mouse\n",
    "time_sort = treatment_columns.loc[treatment_columns[\"Timepoint\"] == 45]\n",
    "time_sort.head()"
   ]
  },
  {
   "cell_type": "code",
   "execution_count": 13,
   "metadata": {},
   "outputs": [
    {
     "data": {
      "text/plain": [
       "0     23.343598\n",
       "1     28.484033\n",
       "2     28.430964\n",
       "3     31.023923\n",
       "4     31.896238\n",
       "5     32.377357\n",
       "6     33.329098\n",
       "7     34.455298\n",
       "8     37.311846\n",
       "9     36.041047\n",
       "10    37.074024\n",
       "11    38.846876\n",
       "12    38.939633\n",
       "13    38.982878\n",
       "14    38.125164\n",
       "15    40.658124\n",
       "16    40.159220\n",
       "17    40.728578\n",
       "18    41.483008\n",
       "19    41.581521\n",
       "20    47.685963\n",
       "Name: Tumor Volume (mm3), dtype: float64"
      ]
     },
     "execution_count": 13,
     "metadata": {},
     "output_type": "execute_result"
    }
   ],
   "source": [
    "#Find all the mice treated with Capomulin\n",
    "cap_data = time_sort[time_sort[\"Drug Regimen\"].isin([\"Capomulin\"])].reset_index()\n",
    "\n",
    "#Sort the data in order of Tumor Volume\n",
    "cap_data.sort_values([\"Tumor Volume (mm3)\"])\n",
    "\n",
    "#Create the list of just Tumor Volume\n",
    "cap_data = cap_data[\"Tumor Volume (mm3)\"]\n",
    "cap_data"
   ]
  },
  {
   "cell_type": "code",
   "execution_count": 14,
   "metadata": {},
   "outputs": [
    {
     "data": {
      "image/png": "[encoded data removed]",
      "text/plain": [
       "<Figure size 432x288 with 1 Axes>"
      ]
     },
     "metadata": {
      "needs_background": "light"
     },
     "output_type": "display_data"
    }
   ],
   "source": [
    "#Create the box plot to visually see the outliners in the data for Capomulin\n",
    "fig1, ax1 = plt.subplots()\n",
    "ax1.set_title(\"Mice Treated With Capomulin\")\n",
    "ax1.set_ylabel(\"Tumor Volume\")\n",
    "ax1.boxplot(cap_data)\n",
    "plt.show()"
   ]
  },
  {
   "cell_type": "code",
   "execution_count": 15,
   "metadata": {},
   "outputs": [
    {
     "name": "stdout",
     "output_type": "stream",
     "text": [
      "The lower quartile of the Tumor Volume is: 32.37735684\n",
      "The upper quartile of the Tumor Volume is: 40.1592203\n",
      "The interquartile of the Tumor Volume is: 7.781863460000004\n",
      "The the median of the Tumor Volume is: 37.31184577 \n",
      "Values below 20.70456164999999 could be outliers.\n",
      "Values above 51.83201549 could be outliers.\n"
     ]
    }
   ],
   "source": [
    "# If the data is in a dataframe, we use pandas to give quartile calculations\n",
    "quartiles = cap_data.quantile([.25,.5,.75])\n",
    "lowerq = quartiles[0.25]\n",
    "upperq = quartiles[0.75]\n",
    "iqr = upperq-lowerq\n",
    "\n",
    "print(f\"The lower quartile of the Tumor Volume is: {lowerq}\")\n",
    "print(f\"The upper quartile of the Tumor Volume is: {upperq}\")\n",
    "print(f\"The interquartile of the Tumor Volume is: {iqr}\")\n",
    "print(f\"The the median of the Tumor Volume is: {quartiles[0.5]} \")\n",
    "\n",
    "lower_bound = lowerq - (1.5*iqr)\n",
    "upper_bound = upperq + (1.5*iqr)\n",
    "print(f\"Values below {lower_bound} could be outliers.\")\n",
    "print(f\"Values above {upper_bound} could be outliers.\")"
   ]
  },
  {
   "cell_type": "code",
   "execution_count": 16,
   "metadata": {},
   "outputs": [
    {
     "data": {
      "text/plain": [
       "0     22.050126\n",
       "1     29.128472\n",
       "2     30.276232\n",
       "3     30.564625\n",
       "4     30.638696\n",
       "5     31.560470\n",
       "6     31.095335\n",
       "7     33.397653\n",
       "8     32.978522\n",
       "9     33.562402\n",
       "10    36.134852\n",
       "11    38.810366\n",
       "12    37.225650\n",
       "13    36.374510\n",
       "14    37.311236\n",
       "15    38.407618\n",
       "16    40.659006\n",
       "17    40.667713\n",
       "18    45.220869\n",
       "19    43.047543\n",
       "Name: Tumor Volume (mm3), dtype: float64"
      ]
     },
     "execution_count": 16,
     "metadata": {},
     "output_type": "execute_result"
    }
   ],
   "source": [
    "#Find all the mice treated with Ramicane\n",
    "ram_data = time_sort[time_sort[\"Drug Regimen\"].isin([\"Ramicane\"])].reset_index()\n",
    "\n",
    "#Sort the data in order of Tumor Volume\n",
    "ram_data.sort_values([\"Tumor Volume (mm3)\"])\n",
    "\n",
    "#Create the list of just Tumor Volume\n",
    "ram_data = ram_data[\"Tumor Volume (mm3)\"]\n",
    "ram_data"
   ]
  },
  {
   "cell_type": "code",
   "execution_count": 17,
   "metadata": {},
   "outputs": [
    {
     "data": {
      "image/png": "[encoded data removed]",
      "text/plain": [
       "<Figure size 432x288 with 1 Axes>"
      ]
     },
     "metadata": {
      "needs_background": "light"
     },
     "output_type": "display_data"
    }
   ],
   "source": [
    "#Create the box plot to visually see the outliners in the data for Ramicane\n",
    "fig1, ax1 = plt.subplots()\n",
    "ax1.set_title(\"Mice Treated With Ramicane\")\n",
    "ax1.set_ylabel(\"Tumor Volume\")\n",
    "ax1.boxplot(ram_data)\n",
    "plt.show()"
   ]
  },
  {
   "cell_type": "code",
   "execution_count": 18,
   "metadata": {},
   "outputs": [
    {
     "name": "stdout",
     "output_type": "stream",
     "text": [
      "The lower quartile of the Tumor Volume is: 30.981175224999998\n",
      "The upper quartile of the Tumor Volume is: 38.508305307499995\n",
      "The interquartile of the Tumor Volume is: 7.527130082499998\n",
      "The the median of the Tumor Volume is: 34.848627300000004 \n",
      "Values below 19.690480101250003 could be outliers.\n",
      "Values above 49.79900043124999 could be outliers.\n"
     ]
    }
   ],
   "source": [
    "# If the data is in a dataframe, we use pandas to give quartile calculations\n",
    "quartiles = ram_data.quantile([.25,.5,.75])\n",
    "lowerq = quartiles[0.25]\n",
    "upperq = quartiles[0.75]\n",
    "iqr = upperq-lowerq\n",
    "\n",
    "print(f\"The lower quartile of the Tumor Volume is: {lowerq}\")\n",
    "print(f\"The upper quartile of the Tumor Volume is: {upperq}\")\n",
    "print(f\"The interquartile of the Tumor Volume is: {iqr}\")\n",
    "print(f\"The the median of the Tumor Volume is: {quartiles[0.5]} \")\n",
    "\n",
    "lower_bound = lowerq - (1.5*iqr)\n",
    "upper_bound = upperq + (1.5*iqr)\n",
    "print(f\"Values below {lower_bound} could be outliers.\")\n",
    "print(f\"Values above {upper_bound} could be outliers.\")"
   ]
  },
  {
   "cell_type": "code",
   "execution_count": 19,
   "metadata": {},
   "outputs": [
    {
     "data": {
      "text/plain": [
       "0    67.973419\n",
       "1    65.525743\n",
       "2    66.083066\n",
       "3    72.226731\n",
       "4    62.435404\n",
       "5    60.918767\n",
       "6    66.196912\n",
       "7    67.685569\n",
       "8    62.754451\n",
       "Name: Tumor Volume (mm3), dtype: float64"
      ]
     },
     "execution_count": 19,
     "metadata": {},
     "output_type": "execute_result"
    }
   ],
   "source": [
    "#Find all the mice treated with Infubinol\n",
    "inf_data = time_sort[time_sort[\"Drug Regimen\"].isin([\"Infubinol\"])].reset_index()\n",
    "\n",
    "#Sort the data in order of Tumor Volume\n",
    "inf_data.sort_values([\"Tumor Volume (mm3)\"])\n",
    "\n",
    "#Create the list of just Tumor Volume\n",
    "inf_data = inf_data[\"Tumor Volume (mm3)\"]\n",
    "inf_data"
   ]
  },
  {
   "cell_type": "code",
   "execution_count": 20,
   "metadata": {},
   "outputs": [
    {
     "data": {
      "image/png": "[encoded data removed]",
      "text/plain": [
       "<Figure size 432x288 with 1 Axes>"
      ]
     },
     "metadata": {
      "needs_background": "light"
     },
     "output_type": "display_data"
    }
   ],
   "source": [
    "#Create the box plot to visually see the outliners in the data for Infubinol\n",
    "fig1, ax1 = plt.subplots()\n",
    "ax1.set_title(\"Mice Treated With Infubinol\")\n",
    "ax1.set_ylabel(\"Tumor Volume\")\n",
    "ax1.boxplot(inf_data)\n",
    "plt.show()"
   ]
  },
  {
   "cell_type": "code",
   "execution_count": 21,
   "metadata": {},
   "outputs": [
    {
     "name": "stdout",
     "output_type": "stream",
     "text": [
      "The lower quartile of the Tumor Volume is: 62.75445141\n",
      "The upper quartile of the Tumor Volume is: 67.68556862\n",
      "The interquartile of the Tumor Volume is: 4.9311172099999965\n",
      "The the median of the Tumor Volume is: 66.08306589 \n",
      "Values below 55.35777559500001 could be outliers.\n",
      "Values above 75.08224443499999 could be outliers.\n"
     ]
    }
   ],
   "source": [
    "# If the data is in a dataframe, we use pandas to give quartile calculations\n",
    "quartiles = inf_data.quantile([.25,.5,.75])\n",
    "lowerq = quartiles[0.25]\n",
    "upperq = quartiles[0.75]\n",
    "iqr = upperq-lowerq\n",
    "\n",
    "print(f\"The lower quartile of the Tumor Volume is: {lowerq}\")\n",
    "print(f\"The upper quartile of the Tumor Volume is: {upperq}\")\n",
    "print(f\"The interquartile of the Tumor Volume is: {iqr}\")\n",
    "print(f\"The the median of the Tumor Volume is: {quartiles[0.5]} \")\n",
    "\n",
    "lower_bound = lowerq - (1.5*iqr)\n",
    "upper_bound = upperq + (1.5*iqr)\n",
    "print(f\"Values below {lower_bound} could be outliers.\")\n",
    "print(f\"Values above {upper_bound} could be outliers.\")"
   ]
  },
  {
   "cell_type": "code",
   "execution_count": 22,
   "metadata": {},
   "outputs": [
    {
     "data": {
      "text/plain": [
       "0     62.999356\n",
       "1     61.849023\n",
       "2     68.923185\n",
       "3     67.748662\n",
       "4     59.851956\n",
       "5     64.299830\n",
       "6     59.741901\n",
       "7     61.433892\n",
       "8     67.527482\n",
       "9     64.634949\n",
       "10    61.386660\n",
       "11    68.594745\n",
       "12    64.729837\n",
       "Name: Tumor Volume (mm3), dtype: float64"
      ]
     },
     "execution_count": 22,
     "metadata": {},
     "output_type": "execute_result"
    }
   ],
   "source": [
    "#Find all the mice treated with Ceftamin\n",
    "cef_data = time_sort[time_sort[\"Drug Regimen\"].isin([\"Ceftamin\"])].reset_index()\n",
    "\n",
    "#Sort the data in order of Tumor Volume\n",
    "cef_data.sort_values([\"Tumor Volume (mm3)\"])\n",
    "\n",
    "#Create the list of just Tumor Volume\n",
    "cef_data = cef_data[\"Tumor Volume (mm3)\"]\n",
    "cef_data"
   ]
  },
  {
   "cell_type": "code",
   "execution_count": 23,
   "metadata": {},
   "outputs": [
    {
     "data": {
      "image/png": "[encoded data removed]",
      "text/plain": [
       "<Figure size 432x288 with 1 Axes>"
      ]
     },
     "metadata": {
      "needs_background": "light"
     },
     "output_type": "display_data"
    }
   ],
   "source": [
    "#Create the box plot to visually see the outliners in the data for Ceftamin\n",
    "fig1, ax1 = plt.subplots()\n",
    "ax1.set_title(\"Mice Treated With Ceftamin\")\n",
    "ax1.set_ylabel(\"Tumor Volume\")\n",
    "ax1.boxplot(inf_data)\n",
    "plt.show()"
   ]
  },
  {
   "cell_type": "code",
   "execution_count": 24,
   "metadata": {},
   "outputs": [
    {
     "name": "stdout",
     "output_type": "stream",
     "text": [
      "The lower quartile of the Tumor Volume is: 61.43389223\n",
      "The upper quartile of the Tumor Volume is: 67.52748237\n",
      "The interquartile of the Tumor Volume is: 6.093590140000003\n",
      "The the median of the Tumor Volume is: 64.29983003 \n",
      "Values below 52.29350701999999 could be outliers.\n",
      "Values above 76.66786758 could be outliers.\n"
     ]
    }
   ],
   "source": [
    "# If the data is in a dataframe, we use pandas to give quartile calculations\n",
    "quartiles = cef_data.quantile([.25,.5,.75])\n",
    "lowerq = quartiles[0.25]\n",
    "upperq = quartiles[0.75]\n",
    "iqr = upperq-lowerq\n",
    "\n",
    "print(f\"The lower quartile of the Tumor Volume is: {lowerq}\")\n",
    "print(f\"The upper quartile of the Tumor Volume is: {upperq}\")\n",
    "print(f\"The interquartile of the Tumor Volume is: {iqr}\")\n",
    "print(f\"The the median of the Tumor Volume is: {quartiles[0.5]} \")\n",
    "\n",
    "lower_bound = lowerq - (1.5*iqr)\n",
    "upper_bound = upperq + (1.5*iqr)\n",
    "print(f\"Values below {lower_bound} could be outliers.\")\n",
    "print(f\"Values above {upper_bound} could be outliers.\")"
   ]
  },
  {
   "cell_type": "code",
   "execution_count": 99,
   "metadata": {},
   "outputs": [
    {
     "data": {
      "text/html": [
       "<div>\n",
       "<style scoped>\n",
       "    .dataframe tbody tr th:only-of-type {\n",
       "        vertical-align: middle;\n",
       "    }\n",
       "\n",
       "    .dataframe tbody tr th {\n",
       "        vertical-align: top;\n",
       "    }\n",
       "\n",
       "    .dataframe thead th {\n",
       "        text-align: right;\n",
       "    }\n",
       "</style>\n",
       "<table border=\"1\" class=\"dataframe\">\n",
       "  <thead>\n",
       "    <tr style=\"text-align: right;\">\n",
       "      <th></th>\n",
       "      <th>Mouse ID</th>\n",
       "      <th>Drug Regimen</th>\n",
       "      <th>Timepoint</th>\n",
       "      <th>Tumor Volume (mm3)</th>\n",
       "    </tr>\n",
       "  </thead>\n",
       "  <tbody>\n",
       "    <tr>\n",
       "      <th>10</th>\n",
       "      <td>s185</td>\n",
       "      <td>Capomulin</td>\n",
       "      <td>0</td>\n",
       "      <td>45.000000</td>\n",
       "    </tr>\n",
       "    <tr>\n",
       "      <th>11</th>\n",
       "      <td>s185</td>\n",
       "      <td>Capomulin</td>\n",
       "      <td>5</td>\n",
       "      <td>43.878496</td>\n",
       "    </tr>\n",
       "    <tr>\n",
       "      <th>12</th>\n",
       "      <td>s185</td>\n",
       "      <td>Capomulin</td>\n",
       "      <td>10</td>\n",
       "      <td>37.614948</td>\n",
       "    </tr>\n",
       "    <tr>\n",
       "      <th>13</th>\n",
       "      <td>s185</td>\n",
       "      <td>Capomulin</td>\n",
       "      <td>15</td>\n",
       "      <td>38.177232</td>\n",
       "    </tr>\n",
       "    <tr>\n",
       "      <th>14</th>\n",
       "      <td>s185</td>\n",
       "      <td>Capomulin</td>\n",
       "      <td>20</td>\n",
       "      <td>36.866876</td>\n",
       "    </tr>\n",
       "  </tbody>\n",
       "</table>\n",
       "</div>"
      ],
      "text/plain": [
       "   Mouse ID Drug Regimen  Timepoint  Tumor Volume (mm3)\n",
       "10     s185    Capomulin          0           45.000000\n",
       "11     s185    Capomulin          5           43.878496\n",
       "12     s185    Capomulin         10           37.614948\n",
       "13     s185    Capomulin         15           38.177232\n",
       "14     s185    Capomulin         20           36.866876"
      ]
     },
     "execution_count": 99,
     "metadata": {},
     "output_type": "execute_result"
    }
   ],
   "source": [
    "#Create a line plot to show the timepoint vs tumor volume for mice treated with Capomulin\n",
    "cap_df = merged_data.loc[merged_data[\"Drug Regimen\"] == \"Capomulin\"]\n",
    "fixed_cap_df = cap_df[[\"Mouse ID\", \"Drug Regimen\", \"Timepoint\", \"Tumor Volume (mm3)\"]]\n",
    "fixed_cap_df.head()"
   ]
  },
  {
   "cell_type": "code",
   "execution_count": 100,
   "metadata": {},
   "outputs": [
    {
     "data": {
      "text/html": [
       "<div>\n",
       "<style scoped>\n",
       "    .dataframe tbody tr th:only-of-type {\n",
       "        vertical-align: middle;\n",
       "    }\n",
       "\n",
       "    .dataframe tbody tr th {\n",
       "        vertical-align: top;\n",
       "    }\n",
       "\n",
       "    .dataframe thead th {\n",
       "        text-align: right;\n",
       "    }\n",
       "</style>\n",
       "<table border=\"1\" class=\"dataframe\">\n",
       "  <thead>\n",
       "    <tr style=\"text-align: right;\">\n",
       "      <th></th>\n",
       "      <th>Mouse ID</th>\n",
       "      <th>Drug Regimen</th>\n",
       "      <th>Timepoint</th>\n",
       "      <th>Tumor Volume (mm3)</th>\n",
       "    </tr>\n",
       "  </thead>\n",
       "  <tbody>\n",
       "    <tr>\n",
       "      <th>10</th>\n",
       "      <td>s185</td>\n",
       "      <td>Capomulin</td>\n",
       "      <td>0</td>\n",
       "      <td>45.000000</td>\n",
       "    </tr>\n",
       "    <tr>\n",
       "      <th>11</th>\n",
       "      <td>s185</td>\n",
       "      <td>Capomulin</td>\n",
       "      <td>5</td>\n",
       "      <td>43.878496</td>\n",
       "    </tr>\n",
       "    <tr>\n",
       "      <th>12</th>\n",
       "      <td>s185</td>\n",
       "      <td>Capomulin</td>\n",
       "      <td>10</td>\n",
       "      <td>37.614948</td>\n",
       "    </tr>\n",
       "    <tr>\n",
       "      <th>13</th>\n",
       "      <td>s185</td>\n",
       "      <td>Capomulin</td>\n",
       "      <td>15</td>\n",
       "      <td>38.177232</td>\n",
       "    </tr>\n",
       "    <tr>\n",
       "      <th>14</th>\n",
       "      <td>s185</td>\n",
       "      <td>Capomulin</td>\n",
       "      <td>20</td>\n",
       "      <td>36.866876</td>\n",
       "    </tr>\n",
       "    <tr>\n",
       "      <th>15</th>\n",
       "      <td>s185</td>\n",
       "      <td>Capomulin</td>\n",
       "      <td>25</td>\n",
       "      <td>33.949940</td>\n",
       "    </tr>\n",
       "    <tr>\n",
       "      <th>16</th>\n",
       "      <td>s185</td>\n",
       "      <td>Capomulin</td>\n",
       "      <td>30</td>\n",
       "      <td>32.959671</td>\n",
       "    </tr>\n",
       "    <tr>\n",
       "      <th>17</th>\n",
       "      <td>s185</td>\n",
       "      <td>Capomulin</td>\n",
       "      <td>35</td>\n",
       "      <td>28.328531</td>\n",
       "    </tr>\n",
       "    <tr>\n",
       "      <th>18</th>\n",
       "      <td>s185</td>\n",
       "      <td>Capomulin</td>\n",
       "      <td>40</td>\n",
       "      <td>25.472143</td>\n",
       "    </tr>\n",
       "    <tr>\n",
       "      <th>19</th>\n",
       "      <td>s185</td>\n",
       "      <td>Capomulin</td>\n",
       "      <td>45</td>\n",
       "      <td>23.343598</td>\n",
       "    </tr>\n",
       "  </tbody>\n",
       "</table>\n",
       "</div>"
      ],
      "text/plain": [
       "   Mouse ID Drug Regimen  Timepoint  Tumor Volume (mm3)\n",
       "10     s185    Capomulin          0           45.000000\n",
       "11     s185    Capomulin          5           43.878496\n",
       "12     s185    Capomulin         10           37.614948\n",
       "13     s185    Capomulin         15           38.177232\n",
       "14     s185    Capomulin         20           36.866876\n",
       "15     s185    Capomulin         25           33.949940\n",
       "16     s185    Capomulin         30           32.959671\n",
       "17     s185    Capomulin         35           28.328531\n",
       "18     s185    Capomulin         40           25.472143\n",
       "19     s185    Capomulin         45           23.343598"
      ]
     },
     "execution_count": 100,
     "metadata": {},
     "output_type": "execute_result"
    }
   ],
   "source": [
    "#Select a single mouse's data\n",
    "cap_mouse_data = fixed_cap_df.loc[cap_df[\"Mouse ID\"] == \"s185\"]\n",
    "cap_mouse_data"
   ]
  },
  {
   "cell_type": "code",
   "execution_count": 136,
   "metadata": {},
   "outputs": [
    {
     "data": {
      "text/plain": [
       "<matplotlib.legend.Legend at 0x12898ca5488>"
      ]
     },
     "execution_count": 136,
     "metadata": {},
     "output_type": "execute_result"
    },
    {
     "data": {
      "image/png": "[encoded data removed]",
      "text/plain": [
       "<Figure size 432x288 with 1 Axes>"
      ]
     },
     "metadata": {
      "needs_background": "light"
     },
     "output_type": "display_data"
    }
   ],
   "source": [
    "#Set up the line plot\n",
    "#Set the x and y axis\n",
    "x_axis = cap_mouse_data[\"Timepoint\"]\n",
    "y_axis = cap_mouse_data[\"Tumor Volume (mm3)\"]\n",
    "\n",
    "#Plot the values\n",
    "cap_mouse_chart = plt.plot(x_axis, y_axis, color = \"cyan\")\n",
    "\n",
    "#Clean the chart\n",
    "plt.title(\"Mouse s185\")\n",
    "plt.xlabel(\"Timepoint\")\n",
    "plt.ylabel(\"Tumor Volume (mm3)\")\n",
    "plt.legend([\"Tumor Volume (mm3)\"])"
   ]
  },
  {
   "cell_type": "code",
   "execution_count": 114,
   "metadata": {},
   "outputs": [
    {
     "data": {
      "text/html": [
       "<div>\n",
       "<style scoped>\n",
       "    .dataframe tbody tr th:only-of-type {\n",
       "        vertical-align: middle;\n",
       "    }\n",
       "\n",
       "    .dataframe tbody tr th {\n",
       "        vertical-align: top;\n",
       "    }\n",
       "\n",
       "    .dataframe thead th {\n",
       "        text-align: right;\n",
       "    }\n",
       "</style>\n",
       "<table border=\"1\" class=\"dataframe\">\n",
       "  <thead>\n",
       "    <tr style=\"text-align: right;\">\n",
       "      <th></th>\n",
       "      <th>Mouse ID</th>\n",
       "      <th>Weight (g)</th>\n",
       "      <th>Tumor Volume (mm3)</th>\n",
       "    </tr>\n",
       "  </thead>\n",
       "  <tbody>\n",
       "    <tr>\n",
       "      <th>10</th>\n",
       "      <td>s185</td>\n",
       "      <td>17</td>\n",
       "      <td>45.000000</td>\n",
       "    </tr>\n",
       "    <tr>\n",
       "      <th>11</th>\n",
       "      <td>s185</td>\n",
       "      <td>17</td>\n",
       "      <td>43.878496</td>\n",
       "    </tr>\n",
       "    <tr>\n",
       "      <th>12</th>\n",
       "      <td>s185</td>\n",
       "      <td>17</td>\n",
       "      <td>37.614948</td>\n",
       "    </tr>\n",
       "    <tr>\n",
       "      <th>13</th>\n",
       "      <td>s185</td>\n",
       "      <td>17</td>\n",
       "      <td>38.177232</td>\n",
       "    </tr>\n",
       "    <tr>\n",
       "      <th>14</th>\n",
       "      <td>s185</td>\n",
       "      <td>17</td>\n",
       "      <td>36.866876</td>\n",
       "    </tr>\n",
       "  </tbody>\n",
       "</table>\n",
       "</div>"
      ],
      "text/plain": [
       "   Mouse ID  Weight (g)  Tumor Volume (mm3)\n",
       "10     s185          17           45.000000\n",
       "11     s185          17           43.878496\n",
       "12     s185          17           37.614948\n",
       "13     s185          17           38.177232\n",
       "14     s185          17           36.866876"
      ]
     },
     "execution_count": 114,
     "metadata": {},
     "output_type": "execute_result"
    }
   ],
   "source": [
    "#Create a scatter plot of the same mouse's weight vs tumor volume for the Capomulin Regimen\n",
    "#Set up the dataframe with the columns we need to look at \n",
    "weight_cap_df = cap_df[[\"Mouse ID\", \"Weight (g)\", \"Tumor Volume (mm3)\"]]\n",
    "weight_cap_df.head()"
   ]
  },
  {
   "cell_type": "code",
   "execution_count": 134,
   "metadata": {},
   "outputs": [
    {
     "data": {
      "text/html": [
       "<div>\n",
       "<style scoped>\n",
       "    .dataframe tbody tr th:only-of-type {\n",
       "        vertical-align: middle;\n",
       "    }\n",
       "\n",
       "    .dataframe tbody tr th {\n",
       "        vertical-align: top;\n",
       "    }\n",
       "\n",
       "    .dataframe thead th {\n",
       "        text-align: right;\n",
       "    }\n",
       "</style>\n",
       "<table border=\"1\" class=\"dataframe\">\n",
       "  <thead>\n",
       "    <tr style=\"text-align: right;\">\n",
       "      <th></th>\n",
       "      <th>Mouse ID</th>\n",
       "      <th>Weight (g)</th>\n",
       "      <th>Tumor Volume (mm3)</th>\n",
       "    </tr>\n",
       "  </thead>\n",
       "  <tbody>\n",
       "    <tr>\n",
       "      <th>0</th>\n",
       "      <td>b128</td>\n",
       "      <td>22</td>\n",
       "      <td>41.963636</td>\n",
       "    </tr>\n",
       "    <tr>\n",
       "      <th>1</th>\n",
       "      <td>b742</td>\n",
       "      <td>21</td>\n",
       "      <td>40.083699</td>\n",
       "    </tr>\n",
       "    <tr>\n",
       "      <th>2</th>\n",
       "      <td>f966</td>\n",
       "      <td>17</td>\n",
       "      <td>36.505973</td>\n",
       "    </tr>\n",
       "    <tr>\n",
       "      <th>3</th>\n",
       "      <td>g288</td>\n",
       "      <td>19</td>\n",
       "      <td>41.990097</td>\n",
       "    </tr>\n",
       "    <tr>\n",
       "      <th>4</th>\n",
       "      <td>g316</td>\n",
       "      <td>22</td>\n",
       "      <td>44.613344</td>\n",
       "    </tr>\n",
       "  </tbody>\n",
       "</table>\n",
       "</div>"
      ],
      "text/plain": [
       "  Mouse ID  Weight (g)  Tumor Volume (mm3)\n",
       "0     b128          22           41.963636\n",
       "1     b742          21           40.083699\n",
       "2     f966          17           36.505973\n",
       "3     g288          19           41.990097\n",
       "4     g316          22           44.613344"
      ]
     },
     "execution_count": 134,
     "metadata": {},
     "output_type": "execute_result"
    }
   ],
   "source": [
    "#Group by Mouse ID\n",
    "group_weight = weight_cap_df.groupby([\"Mouse ID\", \"Weight (g)\"])\n",
    "\n",
    "#Get the average weight of each mouse \n",
    "avg_group_weight = pd.DataFrame(group_weight[\"Tumor Volume (mm3)\"].mean()).reset_index()\n",
    "avg_group_weight.head()"
   ]
  },
  {
   "cell_type": "code",
   "execution_count": 143,
   "metadata": {},
   "outputs": [
    {
     "data": {
      "image/png": "[encoded data removed]",
      "text/plain": [
       "<Figure size 432x288 with 1 Axes>"
      ]
     },
     "metadata": {
      "needs_background": "light"
     },
     "output_type": "display_data"
    }
   ],
   "source": [
    "#Set the X and Y axis\n",
    "#x_axis = group_weight[\n",
    "#y_axis = group_weight[]\n",
    "\n",
    "#Create the scatter plot\n",
    "avg_group_weight.plot(kind = \"scatter\", x = \"Weight (g)\", y = \"Tumor Volume (mm3)\", grid = \"true\",\n",
    "                      color = \"red\", title= \"Average weight vs Tumor Volume\") \n",
    "\n",
    "plt.show()"
   ]
  },
  {
   "cell_type": "code",
   "execution_count": null,
   "metadata": {},
   "outputs": [],
   "source": []
  }
 ],
 "metadata": {
  "kernelspec": {
   "display_name": "Python 3",
   "language": "python",
   "name": "python3"
  },
  "language_info": {
   "codemirror_mode": {
    "name": "ipython",
    "version": 3
   },
   "file_extension": ".py",
   "mimetype": "text/x-python",
   "name": "python",
   "nbconvert_exporter": "python",
   "pygments_lexer": "ipython3",
   "version": "3.7.6"
  }
 },
 "nbformat": 4,
 "nbformat_minor": 4
}
